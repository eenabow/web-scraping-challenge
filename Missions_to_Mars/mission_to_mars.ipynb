{
 "cells": [
  {
   "source": [
    "## Step 1 : Web Scraping "
   ],
   "cell_type": "markdown",
   "metadata": {}
  },
  {
   "cell_type": "code",
   "execution_count": 1,
   "metadata": {},
   "outputs": [],
   "source": [
    "#Import dependencies \n",
    "from splinter import Browser\n",
    "from bs4 import BeautifulSoup\n",
    "from webdriver_manager.chrome import ChromeDriverManager\n",
    "import requests\n",
    "import os\n",
    "import pandas as pd\n",
    "from time import sleep "
   ]
  },
  {
   "cell_type": "code",
   "execution_count": 2,
   "metadata": {},
   "outputs": [
    {
     "output_type": "stream",
     "name": "stderr",
     "text": [
      "[WDM] - ====== WebDriver manager ======\n",
      "[WDM] - Current google-chrome version is 88.0.4324\n",
      "[WDM] - Get LATEST driver version for 88.0.4324\n",
      "[WDM] - Driver [C:\\Users\\eenab\\.wdm\\drivers\\chromedriver\\win32\\88.0.4324.96\\chromedriver.exe] found in cache\n",
      "\n",
      "\n"
     ]
    }
   ],
   "source": [
    "# Setup splinter\n",
    "executable_path = {'executable_path': ChromeDriverManager().install()}\n",
    "browser = Browser('chrome', **executable_path, headless=False)"
   ]
  },
  {
   "cell_type": "code",
   "execution_count": 3,
   "metadata": {},
   "outputs": [],
   "source": [
    "#Create empty dictionary to hold all variables \n",
    "\n",
    "mars_data = {}\n",
    "\n",
    "# title : string\n",
    "# paragraph : string\n",
    "# image :string\n",
    "# pd.to_html -- run on the table they provide : string\n",
    "# hemispheres: list of dictionaries\n",
    "\n"
   ]
  },
  {
   "source": [
    "## NASA Mars News"
   ],
   "cell_type": "markdown",
   "metadata": {}
  },
  {
   "cell_type": "code",
   "execution_count": 4,
   "metadata": {},
   "outputs": [],
   "source": [
    "# Visit Nasa news url through splinter module\n",
    "url = 'https://mars.nasa.gov/news/'\n",
    "browser.visit(url)"
   ]
  },
  {
   "cell_type": "code",
   "execution_count": 5,
   "metadata": {},
   "outputs": [],
   "source": [
    "# Create BeautifulSoup object; parse with 'html.parser'\n",
    "soup = BeautifulSoup(browser.html, 'html.parser')"
   ]
  },
  {
   "cell_type": "code",
   "execution_count": 6,
   "metadata": {},
   "outputs": [],
   "source": [
    "#Find latest news title \n",
    "news_title = soup.find_all('div', class_='content_title')\n",
    "news_title[1].get_text()\n",
    "title = news_title[1].get_text()\n",
    "mars_data[\"title\"] = title"
   ]
  },
  {
   "cell_type": "code",
   "execution_count": 7,
   "metadata": {},
   "outputs": [],
   "source": [
    "#Find latest news description\n",
    "news_p = soup.find_all('div', class_='article_teaser_body')\n",
    "news_p[1].get_text()\n",
    "mars_data[\"news_p\"] = news_p"
   ]
  },
  {
   "cell_type": "code",
   "execution_count": 8,
   "metadata": {},
   "outputs": [
    {
     "output_type": "execute_result",
     "data": {
      "text/plain": [
       "{'title': \"NASA's Mars Perseverance Rover Provides Front-Row Seat to Landing, First Audio Recording of Red Planet \",\n",
       " 'news_p': [<div class=\"article_teaser_body\">The agency’s newest rover captured first-of-its kind footage of its Feb. 18 touchdown and has recorded audio of Martian wind.\n",
       "  \n",
       "  </div>,\n",
       "  <div class=\"article_teaser_body\">First-of-its kind footage from the agency’s newest rover will be presented during a briefing this morning.</div>,\n",
       "  <div class=\"article_teaser_body\">The technology demonstration has phoned home from where it is attached to the belly of NASA’s Perseverance rover. </div>,\n",
       "  <div class=\"article_teaser_body\">The six-wheeled robot’s latest data since touching down yesterday include a hi-res image captured as the rover’s jetpack lowered it to the ground.</div>,\n",
       "  <div class=\"article_teaser_body\">The agency’s latest and most complex mission to the Red Planet has touched down at Jezero Crater. Now it’s time to begin testing the health of the rover.  </div>,\n",
       "  <div class=\"article_teaser_body\">When the agency’s newest rover mission searches for fossilized microscopic life on the Red Planet, how will scientists know whether they’ve found it?</div>,\n",
       "  <div class=\"article_teaser_body\">A tightly choreographed dance between NASA’s Deep Space Network and Mars orbiters will keep the agency’s Perseverance in touch with Earth during landing and beyond.</div>,\n",
       "  <div class=\"article_teaser_body\">What to expect when the Mars 2020 Perseverance rover arrives at the Red Planet on Feb. 18, 2021.</div>,\n",
       "  <div class=\"article_teaser_body\">Technology will collect critical data about the harsh entry environment during Perseverance’s entry next Thursday.</div>,\n",
       "  <div class=\"article_teaser_body\">As dust collects on the solar panels and winter comes to Elysium Planitia, the team is following a plan to reduce science operations in order to keep the lander safe.</div>,\n",
       "  <div class=\"article_teaser_body\">Mark your calendars for live landing commentary, news briefings, livestreamed Q&amp;As, virtual watch parties, student activities, and more.</div>,\n",
       "  <div class=\"article_teaser_body\">How two new technologies will help Perseverance, NASA’s most sophisticated rover yet, touch down onto the surface of Mars this month.</div>,\n",
       "  <div class=\"article_teaser_body\">A new NASA paper provides the most detailed map to date of near-surface water ice on the Red Planet.</div>,\n",
       "  <div class=\"article_teaser_body\">Even as the Perseverance rover approaches Mars, technology on board is paying off on Earth.</div>,\n",
       "  <div class=\"article_teaser_body\">The Martian moon Phobos orbits through a stream of charged atoms and molecules that flow off the Red Planet’s atmosphere, new research shows.</div>,\n",
       "  <div class=\"article_teaser_body\">With a suite of new national and international spacecraft primed to explore the Red Planet after their arrival next month, NASA’s MAVEN mission is ready to provide support and continue its study of the Martian atmosphere.</div>,\n",
       "  <div class=\"article_teaser_body\">Seven minutes of harrowing descent to the Red Planet is in the not-so-distant future for the agency’s Mars 2020 mission.  </div>,\n",
       "  <div class=\"article_teaser_body\">Ingenuity, a technology experiment, is preparing to attempt the first powered, controlled flight on the Red Planet.</div>,\n",
       "  <div class=\"article_teaser_body\">NASA leadership and members of the mission will discuss the agency’s latest rover, which touches down on the Red Planet on Feb. 18.</div>,\n",
       "  <div class=\"article_teaser_body\">The heat probe hasn’t been able to gain the friction it needs to dig, but the mission has been granted an extension to carry on with its other science.</div>,\n",
       "  <div class=\"article_teaser_body\">Audio gathered by the mission may not sound quite the same on Mars as it would to our ears on Earth. A new interactive online experience lets you sample the difference.</div>,\n",
       "  <div class=\"article_teaser_body\">As the rover has continued to ascend Mount Sharp, it’s found distinctive benchlike rock formations.</div>,\n",
       "  <div class=\"article_teaser_body\">The rover touches down on the Red Planet next month, and students are invited to join the excitement by designing, building, and landing their own Mars mission. NASA can help.</div>,\n",
       "  <div class=\"article_teaser_body\">The missions – Juno and InSight – have each increased our understanding of our solar system, as well as spurred new sets of diverse questions.</div>,\n",
       "  <div class=\"article_teaser_body\">The Mars 2020 Perseverance rover, which has started its approach to the Red Planet, will help answer the next logical question in Mars exploration.</div>,\n",
       "  <div class=\"article_teaser_body\">Marvels of engineering, the rover's sample tubes must be tough enough to safely bring Red Planet samples on the long journey back to Earth in immaculate condition. </div>,\n",
       "  <div class=\"article_teaser_body\">During this next phase, the program will mature critical technologies and make critical design decisions as well as assess industry partnerships.</div>,\n",
       "  <div class=\"article_teaser_body\">Scientists are finding new mysteries since the geophysics mission landed two years ago.</div>,\n",
       "  <div class=\"article_teaser_body\">Bill Allen has thrived as the mechanical systems design lead for three Mars rover missions, but he got his start as a teenager sorting letters for the NASA center.</div>,\n",
       "  <div class=\"article_teaser_body\">The symbols, mottos, and small objects added to the agency's newest Mars rover serve a variety of purposes, from functional to decorative.</div>,\n",
       "  <div class=\"article_teaser_body\">NASA's Perseverance rover carries a device to convert Martian air into oxygen that, if produced on a larger scale, could be used not just for breathing, but also for fuel.</div>,\n",
       "  <div class=\"article_teaser_body\">The first to be rigged with microphones, the agency's latest Mars rover picked up the subtle sounds of its own inner workings during interplanetary flight.</div>,\n",
       "  <div class=\"article_teaser_body\">Sensors on NASA's Perseverance will help prepare for future human exploration by taking weather measurements and studying dust particles.</div>,\n",
       "  <div class=\"article_teaser_body\">Scientists using an instrument aboard NASA’s Mars Atmosphere and Volatile EvolutioN, or MAVEN, spacecraft have discovered that water vapor near the surface of the Red Planet is lofted higher into the atmosphere than anyone expected was possible. </div>,\n",
       "  <div class=\"article_teaser_body\">The Mars rover has drilled three samples of rock in this clay-enriched region since arriving in July.</div>,\n",
       "  <div class=\"article_teaser_body\">NASA released an independent review report Tuesday indicating the agency is well positioned for its Mars Sample Return campaign to bring pristine samples from Mars to Earth for scientific study.</div>,\n",
       "  <div class=\"article_teaser_body\">Mark your calendars: The agency's latest rover has only about 8,640,000 seconds to go before it touches down on the Red Planet, becoming history's next Mars car.</div>,\n",
       "  <div class=\"article_teaser_body\">Sometimes half measures can be a good thing – especially on a journey this long. The agency's latest rover only has about 146 million miles left to reach its destination.</div>,\n",
       "  <div class=\"article_teaser_body\">Instruments tailored to collect data during the descent of NASA's next rover through the Red Planet's atmosphere have been checked in flight.</div>,\n",
       "  <div class=\"article_teaser_body\">For hobbyists and makers, 3D printing expands creative possibilities; for specialized engineers, it's also key to next-generation spacecraft design.</div>]}"
      ]
     },
     "metadata": {},
     "execution_count": 8
    }
   ],
   "source": [
    "mars_data\n"
   ]
  },
  {
   "source": [
    "## Featured Image"
   ],
   "cell_type": "markdown",
   "metadata": {}
  },
  {
   "cell_type": "code",
   "execution_count": 9,
   "metadata": {},
   "outputs": [
    {
     "output_type": "execute_result",
     "data": {
      "text/plain": [
       "'/system/news_items/list_view_images/8870_PIA24422-Navcam-08_N_LRGB_0002_RAS_0010052_CYL_S_UNCORCLJ01-stretched-v2.jpg'"
      ]
     },
     "metadata": {},
     "execution_count": 9
    }
   ],
   "source": [
    "#Find latest news photo\n",
    "photo = soup.find_all('div', class_='list_image')\n",
    "photo[0].find(\"img\")[\"src\"]\n",
    "\n"
   ]
  },
  {
   "cell_type": "code",
   "execution_count": 10,
   "metadata": {},
   "outputs": [],
   "source": [
    "#Create photo url\n",
    "# 'https://mars.nasa.gov/system/news_items/list_view_images/8852_Mars2020-Landing-Technique-320x240.jpg'\n",
    "base_url = 'https://mars.nasa.gov'\n",
    "featured_image_url = base_url + photo[0].find(\"img\")[\"src\"]\n",
    "mars_data[\"featured_image_url\"] = featured_image_url"
   ]
  },
  {
   "cell_type": "code",
   "execution_count": 11,
   "metadata": {},
   "outputs": [
    {
     "output_type": "execute_result",
     "data": {
      "text/plain": [
       "{'title': \"NASA's Mars Perseverance Rover Provides Front-Row Seat to Landing, First Audio Recording of Red Planet \",\n",
       " 'news_p': [<div class=\"article_teaser_body\">The agency’s newest rover captured first-of-its kind footage of its Feb. 18 touchdown and has recorded audio of Martian wind.\n",
       "  \n",
       "  </div>,\n",
       "  <div class=\"article_teaser_body\">First-of-its kind footage from the agency’s newest rover will be presented during a briefing this morning.</div>,\n",
       "  <div class=\"article_teaser_body\">The technology demonstration has phoned home from where it is attached to the belly of NASA’s Perseverance rover. </div>,\n",
       "  <div class=\"article_teaser_body\">The six-wheeled robot’s latest data since touching down yesterday include a hi-res image captured as the rover’s jetpack lowered it to the ground.</div>,\n",
       "  <div class=\"article_teaser_body\">The agency’s latest and most complex mission to the Red Planet has touched down at Jezero Crater. Now it’s time to begin testing the health of the rover.  </div>,\n",
       "  <div class=\"article_teaser_body\">When the agency’s newest rover mission searches for fossilized microscopic life on the Red Planet, how will scientists know whether they’ve found it?</div>,\n",
       "  <div class=\"article_teaser_body\">A tightly choreographed dance between NASA’s Deep Space Network and Mars orbiters will keep the agency’s Perseverance in touch with Earth during landing and beyond.</div>,\n",
       "  <div class=\"article_teaser_body\">What to expect when the Mars 2020 Perseverance rover arrives at the Red Planet on Feb. 18, 2021.</div>,\n",
       "  <div class=\"article_teaser_body\">Technology will collect critical data about the harsh entry environment during Perseverance’s entry next Thursday.</div>,\n",
       "  <div class=\"article_teaser_body\">As dust collects on the solar panels and winter comes to Elysium Planitia, the team is following a plan to reduce science operations in order to keep the lander safe.</div>,\n",
       "  <div class=\"article_teaser_body\">Mark your calendars for live landing commentary, news briefings, livestreamed Q&amp;As, virtual watch parties, student activities, and more.</div>,\n",
       "  <div class=\"article_teaser_body\">How two new technologies will help Perseverance, NASA’s most sophisticated rover yet, touch down onto the surface of Mars this month.</div>,\n",
       "  <div class=\"article_teaser_body\">A new NASA paper provides the most detailed map to date of near-surface water ice on the Red Planet.</div>,\n",
       "  <div class=\"article_teaser_body\">Even as the Perseverance rover approaches Mars, technology on board is paying off on Earth.</div>,\n",
       "  <div class=\"article_teaser_body\">The Martian moon Phobos orbits through a stream of charged atoms and molecules that flow off the Red Planet’s atmosphere, new research shows.</div>,\n",
       "  <div class=\"article_teaser_body\">With a suite of new national and international spacecraft primed to explore the Red Planet after their arrival next month, NASA’s MAVEN mission is ready to provide support and continue its study of the Martian atmosphere.</div>,\n",
       "  <div class=\"article_teaser_body\">Seven minutes of harrowing descent to the Red Planet is in the not-so-distant future for the agency’s Mars 2020 mission.  </div>,\n",
       "  <div class=\"article_teaser_body\">Ingenuity, a technology experiment, is preparing to attempt the first powered, controlled flight on the Red Planet.</div>,\n",
       "  <div class=\"article_teaser_body\">NASA leadership and members of the mission will discuss the agency’s latest rover, which touches down on the Red Planet on Feb. 18.</div>,\n",
       "  <div class=\"article_teaser_body\">The heat probe hasn’t been able to gain the friction it needs to dig, but the mission has been granted an extension to carry on with its other science.</div>,\n",
       "  <div class=\"article_teaser_body\">Audio gathered by the mission may not sound quite the same on Mars as it would to our ears on Earth. A new interactive online experience lets you sample the difference.</div>,\n",
       "  <div class=\"article_teaser_body\">As the rover has continued to ascend Mount Sharp, it’s found distinctive benchlike rock formations.</div>,\n",
       "  <div class=\"article_teaser_body\">The rover touches down on the Red Planet next month, and students are invited to join the excitement by designing, building, and landing their own Mars mission. NASA can help.</div>,\n",
       "  <div class=\"article_teaser_body\">The missions – Juno and InSight – have each increased our understanding of our solar system, as well as spurred new sets of diverse questions.</div>,\n",
       "  <div class=\"article_teaser_body\">The Mars 2020 Perseverance rover, which has started its approach to the Red Planet, will help answer the next logical question in Mars exploration.</div>,\n",
       "  <div class=\"article_teaser_body\">Marvels of engineering, the rover's sample tubes must be tough enough to safely bring Red Planet samples on the long journey back to Earth in immaculate condition. </div>,\n",
       "  <div class=\"article_teaser_body\">During this next phase, the program will mature critical technologies and make critical design decisions as well as assess industry partnerships.</div>,\n",
       "  <div class=\"article_teaser_body\">Scientists are finding new mysteries since the geophysics mission landed two years ago.</div>,\n",
       "  <div class=\"article_teaser_body\">Bill Allen has thrived as the mechanical systems design lead for three Mars rover missions, but he got his start as a teenager sorting letters for the NASA center.</div>,\n",
       "  <div class=\"article_teaser_body\">The symbols, mottos, and small objects added to the agency's newest Mars rover serve a variety of purposes, from functional to decorative.</div>,\n",
       "  <div class=\"article_teaser_body\">NASA's Perseverance rover carries a device to convert Martian air into oxygen that, if produced on a larger scale, could be used not just for breathing, but also for fuel.</div>,\n",
       "  <div class=\"article_teaser_body\">The first to be rigged with microphones, the agency's latest Mars rover picked up the subtle sounds of its own inner workings during interplanetary flight.</div>,\n",
       "  <div class=\"article_teaser_body\">Sensors on NASA's Perseverance will help prepare for future human exploration by taking weather measurements and studying dust particles.</div>,\n",
       "  <div class=\"article_teaser_body\">Scientists using an instrument aboard NASA’s Mars Atmosphere and Volatile EvolutioN, or MAVEN, spacecraft have discovered that water vapor near the surface of the Red Planet is lofted higher into the atmosphere than anyone expected was possible. </div>,\n",
       "  <div class=\"article_teaser_body\">The Mars rover has drilled three samples of rock in this clay-enriched region since arriving in July.</div>,\n",
       "  <div class=\"article_teaser_body\">NASA released an independent review report Tuesday indicating the agency is well positioned for its Mars Sample Return campaign to bring pristine samples from Mars to Earth for scientific study.</div>,\n",
       "  <div class=\"article_teaser_body\">Mark your calendars: The agency's latest rover has only about 8,640,000 seconds to go before it touches down on the Red Planet, becoming history's next Mars car.</div>,\n",
       "  <div class=\"article_teaser_body\">Sometimes half measures can be a good thing – especially on a journey this long. The agency's latest rover only has about 146 million miles left to reach its destination.</div>,\n",
       "  <div class=\"article_teaser_body\">Instruments tailored to collect data during the descent of NASA's next rover through the Red Planet's atmosphere have been checked in flight.</div>,\n",
       "  <div class=\"article_teaser_body\">For hobbyists and makers, 3D printing expands creative possibilities; for specialized engineers, it's also key to next-generation spacecraft design.</div>],\n",
       " 'featured_image_url': 'https://mars.nasa.gov/system/news_items/list_view_images/8870_PIA24422-Navcam-08_N_LRGB_0002_RAS_0010052_CYL_S_UNCORCLJ01-stretched-v2.jpg'}"
      ]
     },
     "metadata": {},
     "execution_count": 11
    }
   ],
   "source": [
    "mars_data"
   ]
  },
  {
   "source": [
    "## Mars Facts"
   ],
   "cell_type": "markdown",
   "metadata": {}
  },
  {
   "cell_type": "code",
   "execution_count": 12,
   "metadata": {},
   "outputs": [],
   "source": [
    "# Visit Mars facts url through splinter module\n",
    "facts_url = 'https://space-facts.com/mars/'\n",
    "browser.visit(facts_url)\n",
    "# sleep(randint(1,10))"
   ]
  },
  {
   "cell_type": "code",
   "execution_count": 13,
   "metadata": {},
   "outputs": [],
   "source": [
    "# Scrape the table containing facts about the planet including Diameter, Mass, etc.and turn into HTML table string\n",
    "facts_table = pd.read_html(facts_url)\n",
    "mars_data[\"facts_table\"] = facts_table"
   ]
  },
  {
   "cell_type": "code",
   "execution_count": 14,
   "metadata": {},
   "outputs": [
    {
     "output_type": "execute_result",
     "data": {
      "text/plain": [
       "{'title': \"NASA's Mars Perseverance Rover Provides Front-Row Seat to Landing, First Audio Recording of Red Planet \",\n",
       " 'news_p': [<div class=\"article_teaser_body\">The agency’s newest rover captured first-of-its kind footage of its Feb. 18 touchdown and has recorded audio of Martian wind.\n",
       "  \n",
       "  </div>,\n",
       "  <div class=\"article_teaser_body\">First-of-its kind footage from the agency’s newest rover will be presented during a briefing this morning.</div>,\n",
       "  <div class=\"article_teaser_body\">The technology demonstration has phoned home from where it is attached to the belly of NASA’s Perseverance rover. </div>,\n",
       "  <div class=\"article_teaser_body\">The six-wheeled robot’s latest data since touching down yesterday include a hi-res image captured as the rover’s jetpack lowered it to the ground.</div>,\n",
       "  <div class=\"article_teaser_body\">The agency’s latest and most complex mission to the Red Planet has touched down at Jezero Crater. Now it’s time to begin testing the health of the rover.  </div>,\n",
       "  <div class=\"article_teaser_body\">When the agency’s newest rover mission searches for fossilized microscopic life on the Red Planet, how will scientists know whether they’ve found it?</div>,\n",
       "  <div class=\"article_teaser_body\">A tightly choreographed dance between NASA’s Deep Space Network and Mars orbiters will keep the agency’s Perseverance in touch with Earth during landing and beyond.</div>,\n",
       "  <div class=\"article_teaser_body\">What to expect when the Mars 2020 Perseverance rover arrives at the Red Planet on Feb. 18, 2021.</div>,\n",
       "  <div class=\"article_teaser_body\">Technology will collect critical data about the harsh entry environment during Perseverance’s entry next Thursday.</div>,\n",
       "  <div class=\"article_teaser_body\">As dust collects on the solar panels and winter comes to Elysium Planitia, the team is following a plan to reduce science operations in order to keep the lander safe.</div>,\n",
       "  <div class=\"article_teaser_body\">Mark your calendars for live landing commentary, news briefings, livestreamed Q&amp;As, virtual watch parties, student activities, and more.</div>,\n",
       "  <div class=\"article_teaser_body\">How two new technologies will help Perseverance, NASA’s most sophisticated rover yet, touch down onto the surface of Mars this month.</div>,\n",
       "  <div class=\"article_teaser_body\">A new NASA paper provides the most detailed map to date of near-surface water ice on the Red Planet.</div>,\n",
       "  <div class=\"article_teaser_body\">Even as the Perseverance rover approaches Mars, technology on board is paying off on Earth.</div>,\n",
       "  <div class=\"article_teaser_body\">The Martian moon Phobos orbits through a stream of charged atoms and molecules that flow off the Red Planet’s atmosphere, new research shows.</div>,\n",
       "  <div class=\"article_teaser_body\">With a suite of new national and international spacecraft primed to explore the Red Planet after their arrival next month, NASA’s MAVEN mission is ready to provide support and continue its study of the Martian atmosphere.</div>,\n",
       "  <div class=\"article_teaser_body\">Seven minutes of harrowing descent to the Red Planet is in the not-so-distant future for the agency’s Mars 2020 mission.  </div>,\n",
       "  <div class=\"article_teaser_body\">Ingenuity, a technology experiment, is preparing to attempt the first powered, controlled flight on the Red Planet.</div>,\n",
       "  <div class=\"article_teaser_body\">NASA leadership and members of the mission will discuss the agency’s latest rover, which touches down on the Red Planet on Feb. 18.</div>,\n",
       "  <div class=\"article_teaser_body\">The heat probe hasn’t been able to gain the friction it needs to dig, but the mission has been granted an extension to carry on with its other science.</div>,\n",
       "  <div class=\"article_teaser_body\">Audio gathered by the mission may not sound quite the same on Mars as it would to our ears on Earth. A new interactive online experience lets you sample the difference.</div>,\n",
       "  <div class=\"article_teaser_body\">As the rover has continued to ascend Mount Sharp, it’s found distinctive benchlike rock formations.</div>,\n",
       "  <div class=\"article_teaser_body\">The rover touches down on the Red Planet next month, and students are invited to join the excitement by designing, building, and landing their own Mars mission. NASA can help.</div>,\n",
       "  <div class=\"article_teaser_body\">The missions – Juno and InSight – have each increased our understanding of our solar system, as well as spurred new sets of diverse questions.</div>,\n",
       "  <div class=\"article_teaser_body\">The Mars 2020 Perseverance rover, which has started its approach to the Red Planet, will help answer the next logical question in Mars exploration.</div>,\n",
       "  <div class=\"article_teaser_body\">Marvels of engineering, the rover's sample tubes must be tough enough to safely bring Red Planet samples on the long journey back to Earth in immaculate condition. </div>,\n",
       "  <div class=\"article_teaser_body\">During this next phase, the program will mature critical technologies and make critical design decisions as well as assess industry partnerships.</div>,\n",
       "  <div class=\"article_teaser_body\">Scientists are finding new mysteries since the geophysics mission landed two years ago.</div>,\n",
       "  <div class=\"article_teaser_body\">Bill Allen has thrived as the mechanical systems design lead for three Mars rover missions, but he got his start as a teenager sorting letters for the NASA center.</div>,\n",
       "  <div class=\"article_teaser_body\">The symbols, mottos, and small objects added to the agency's newest Mars rover serve a variety of purposes, from functional to decorative.</div>,\n",
       "  <div class=\"article_teaser_body\">NASA's Perseverance rover carries a device to convert Martian air into oxygen that, if produced on a larger scale, could be used not just for breathing, but also for fuel.</div>,\n",
       "  <div class=\"article_teaser_body\">The first to be rigged with microphones, the agency's latest Mars rover picked up the subtle sounds of its own inner workings during interplanetary flight.</div>,\n",
       "  <div class=\"article_teaser_body\">Sensors on NASA's Perseverance will help prepare for future human exploration by taking weather measurements and studying dust particles.</div>,\n",
       "  <div class=\"article_teaser_body\">Scientists using an instrument aboard NASA’s Mars Atmosphere and Volatile EvolutioN, or MAVEN, spacecraft have discovered that water vapor near the surface of the Red Planet is lofted higher into the atmosphere than anyone expected was possible. </div>,\n",
       "  <div class=\"article_teaser_body\">The Mars rover has drilled three samples of rock in this clay-enriched region since arriving in July.</div>,\n",
       "  <div class=\"article_teaser_body\">NASA released an independent review report Tuesday indicating the agency is well positioned for its Mars Sample Return campaign to bring pristine samples from Mars to Earth for scientific study.</div>,\n",
       "  <div class=\"article_teaser_body\">Mark your calendars: The agency's latest rover has only about 8,640,000 seconds to go before it touches down on the Red Planet, becoming history's next Mars car.</div>,\n",
       "  <div class=\"article_teaser_body\">Sometimes half measures can be a good thing – especially on a journey this long. The agency's latest rover only has about 146 million miles left to reach its destination.</div>,\n",
       "  <div class=\"article_teaser_body\">Instruments tailored to collect data during the descent of NASA's next rover through the Red Planet's atmosphere have been checked in flight.</div>,\n",
       "  <div class=\"article_teaser_body\">For hobbyists and makers, 3D printing expands creative possibilities; for specialized engineers, it's also key to next-generation spacecraft design.</div>],\n",
       " 'featured_image_url': 'https://mars.nasa.gov/system/news_items/list_view_images/8870_PIA24422-Navcam-08_N_LRGB_0002_RAS_0010052_CYL_S_UNCORCLJ01-stretched-v2.jpg',\n",
       " 'facts_table': [                      0                              1\n",
       "  0  Equatorial Diameter:                       6,792 km\n",
       "  1       Polar Diameter:                       6,752 km\n",
       "  2                 Mass:  6.39 × 10^23 kg (0.11 Earths)\n",
       "  3                Moons:            2 (Phobos & Deimos)\n",
       "  4       Orbit Distance:       227,943,824 km (1.38 AU)\n",
       "  5         Orbit Period:           687 days (1.9 years)\n",
       "  6  Surface Temperature:                   -87 to -5 °C\n",
       "  7         First Record:              2nd millennium BC\n",
       "  8          Recorded By:           Egyptian astronomers,\n",
       "    Mars - Earth Comparison             Mars            Earth\n",
       "  0               Diameter:         6,779 km        12,742 km\n",
       "  1                   Mass:  6.39 × 10^23 kg  5.97 × 10^24 kg\n",
       "  2                  Moons:                2                1\n",
       "  3      Distance from Sun:   227,943,824 km   149,598,262 km\n",
       "  4         Length of Year:   687 Earth days      365.24 days\n",
       "  5            Temperature:     -87 to -5 °C      -88 to 58°C,\n",
       "                        0                              1\n",
       "  0  Equatorial Diameter:                       6,792 km\n",
       "  1       Polar Diameter:                       6,752 km\n",
       "  2                 Mass:  6.39 × 10^23 kg (0.11 Earths)\n",
       "  3                Moons:            2 (Phobos & Deimos)\n",
       "  4       Orbit Distance:       227,943,824 km (1.38 AU)\n",
       "  5         Orbit Period:           687 days (1.9 years)\n",
       "  6  Surface Temperature:                   -87 to -5 °C\n",
       "  7         First Record:              2nd millennium BC\n",
       "  8          Recorded By:           Egyptian astronomers]}"
      ]
     },
     "metadata": {},
     "execution_count": 14
    }
   ],
   "source": [
    "mars_data"
   ]
  },
  {
   "source": [
    "## Mars Hemispheres"
   ],
   "cell_type": "markdown",
   "metadata": {}
  },
  {
   "cell_type": "code",
   "execution_count": 15,
   "metadata": {},
   "outputs": [],
   "source": [
    "hemisphere_image_urls = []\n",
    "    # {\"title\": \"Valles Marineris Hemisphere\", \"img_url\": \"...\"},\n",
    "    # {\"title\": \"Cerberus Hemisphere\", \"img_url\": \"...\"},\n",
    "    # {\"title\": \"Schiaparelli Hemisphere\", \"img_url\": \"...\"},\n",
    "    # {\"title\": \"Syrtis Major Hemisphere\", \"img_url\": \"...\"},\n"
   ]
  },
  {
   "cell_type": "code",
   "execution_count": 16,
   "metadata": {},
   "outputs": [],
   "source": [
    "# Visit Mars Hemispheres url through splinter module\n",
    "hemi_url = 'https://astrogeology.usgs.gov/search/map/Mars/Viking/valles_marineris_enhanced'\n",
    "browser.visit(hemi_url)\n",
    "# sleep(randint(1,10))"
   ]
  },
  {
   "cell_type": "code",
   "execution_count": 17,
   "metadata": {},
   "outputs": [],
   "source": [
    "# Create BeautifulSoup object; parse with 'html.parser'\n",
    "soup = BeautifulSoup(browser.html, 'html.parser')"
   ]
  },
  {
   "cell_type": "code",
   "execution_count": 18,
   "metadata": {},
   "outputs": [
    {
     "output_type": "execute_result",
     "data": {
      "text/plain": [
       "<bound method Tag.find of <div class=\"downloads\">\n",
       "<img class=\"thumb\" src=\"/cache/images/4e59980c1c57f89c680c0e1ccabbeff1_valles_marineris_enhanced.tif_thumb.png\"/>\n",
       "<h3>Download</h3>\n",
       "<ul>\n",
       "<li><a href=\"https://astropedia.astrogeology.usgs.gov/download/Mars/Viking/valles_marineris_enhanced.tif/full.jpg\" target=\"_blank\">Sample</a> (jpg) 1024px wide</li>\n",
       "<li><a href=\"https://astropedia.astrogeology.usgs.gov/download/Mars/Viking/valles_marineris_enhanced.tif\" target=\"_blank\">Original</a> (tif<span class=\"tooltip word-tif\" title=\"\"></span>) 27 MB</li>\n",
       "</ul>\n",
       "</div>>"
      ]
     },
     "metadata": {},
     "execution_count": 18
    }
   ],
   "source": [
    "valles_photo= soup.find_all('div', class_='downloads')\n",
    "valles_photo[0].find"
   ]
  },
  {
   "cell_type": "code",
   "execution_count": 19,
   "metadata": {},
   "outputs": [],
   "source": [
    "# hemis_url = \"https://astrogeology.usgs.gov/search/results?q=hemisphere+enhanced&k1=target&v1=Mars\"\n",
    "# browser.visit(hemis_url)\n",
    "# # sleep(randint(1,10))"
   ]
  },
  {
   "cell_type": "code",
   "execution_count": 20,
   "metadata": {},
   "outputs": [],
   "source": [
    "# html = browser.html\n",
    "# soup = BeautifulSoup(html, 'html.parser')"
   ]
  },
  {
   "cell_type": "code",
   "execution_count": 21,
   "metadata": {},
   "outputs": [
    {
     "output_type": "execute_result",
     "data": {
      "text/plain": [
       "4"
      ]
     },
     "metadata": {},
     "execution_count": 21
    }
   ],
   "source": [
    "base_url = \"https://astrogeology.usgs.gov\"\n",
    "hemis_img_urls = []\n",
    "\n",
    "results = soup.find_all(\"div\", class_='description')\n",
    "len(results)"
   ]
  },
  {
   "cell_type": "code",
   "execution_count": 22,
   "metadata": {},
   "outputs": [
    {
     "output_type": "execute_result",
     "data": {
      "text/plain": [
       "'/search/map/Mars/Viking/cerberus_enhanced'"
      ]
     },
     "metadata": {},
     "execution_count": 22
    }
   ],
   "source": [
    "results[0].find('a')['href']"
   ]
  },
  {
   "cell_type": "code",
   "execution_count": 23,
   "metadata": {},
   "outputs": [],
   "source": [
    "for result in results:\n",
    "    \n",
    "    title = result.find('h3').text\n",
    "    img_page_url = base_url + result.find('a')['href']\n",
    "    \n",
    "    #browser.click img_page_url\n",
    "    response = requests.get(img_page_url)\n",
    "    img_soup = BeautifulSoup(response.text, 'html.parser')\n",
    "    \n",
    "    img_url = img_soup.find('ul').li.a['href']\n",
    "    \n",
    "    img_dict = {'title': title, \n",
    "                'img_url': img_url}\n",
    "    \n",
    "    hemis_img_urls.append(img_dict)\n",
    "\n",
    "    #browser.click and browser.back"
   ]
  },
  {
   "cell_type": "code",
   "execution_count": 24,
   "metadata": {},
   "outputs": [
    {
     "output_type": "execute_result",
     "data": {
      "text/plain": [
       "[{'title': 'Cerberus Hemisphere Enhanced',\n",
       "  'img_url': 'https://astropedia.astrogeology.usgs.gov/download/Mars/Viking/cerberus_enhanced.tif/full.jpg'},\n",
       " {'title': 'Schiaparelli Hemisphere Enhanced',\n",
       "  'img_url': 'https://astropedia.astrogeology.usgs.gov/download/Mars/Viking/schiaparelli_enhanced.tif/full.jpg'},\n",
       " {'title': 'Syrtis Major Hemisphere Enhanced',\n",
       "  'img_url': 'https://astropedia.astrogeology.usgs.gov/download/Mars/Viking/syrtis_major_enhanced.tif/full.jpg'},\n",
       " {'title': 'Valles Marineris Hemisphere Enhanced',\n",
       "  'img_url': 'https://astropedia.astrogeology.usgs.gov/download/Mars/Viking/valles_marineris_enhanced.tif/full.jpg'}]"
      ]
     },
     "metadata": {},
     "execution_count": 24
    }
   ],
   "source": [
    "hemis_img_urls"
   ]
  },
  {
   "cell_type": "code",
   "execution_count": 25,
   "metadata": {},
   "outputs": [],
   "source": [
    "browser.quit()"
   ]
  },
  {
   "cell_type": "code",
   "execution_count": 26,
   "metadata": {},
   "outputs": [
    {
     "output_type": "execute_result",
     "data": {
      "text/plain": [
       "{'title': \"NASA's Mars Perseverance Rover Provides Front-Row Seat to Landing, First Audio Recording of Red Planet \",\n",
       " 'news_p': [<div class=\"article_teaser_body\">The agency’s newest rover captured first-of-its kind footage of its Feb. 18 touchdown and has recorded audio of Martian wind.\n",
       "  \n",
       "  </div>,\n",
       "  <div class=\"article_teaser_body\">First-of-its kind footage from the agency’s newest rover will be presented during a briefing this morning.</div>,\n",
       "  <div class=\"article_teaser_body\">The technology demonstration has phoned home from where it is attached to the belly of NASA’s Perseverance rover. </div>,\n",
       "  <div class=\"article_teaser_body\">The six-wheeled robot’s latest data since touching down yesterday include a hi-res image captured as the rover’s jetpack lowered it to the ground.</div>,\n",
       "  <div class=\"article_teaser_body\">The agency’s latest and most complex mission to the Red Planet has touched down at Jezero Crater. Now it’s time to begin testing the health of the rover.  </div>,\n",
       "  <div class=\"article_teaser_body\">When the agency’s newest rover mission searches for fossilized microscopic life on the Red Planet, how will scientists know whether they’ve found it?</div>,\n",
       "  <div class=\"article_teaser_body\">A tightly choreographed dance between NASA’s Deep Space Network and Mars orbiters will keep the agency’s Perseverance in touch with Earth during landing and beyond.</div>,\n",
       "  <div class=\"article_teaser_body\">What to expect when the Mars 2020 Perseverance rover arrives at the Red Planet on Feb. 18, 2021.</div>,\n",
       "  <div class=\"article_teaser_body\">Technology will collect critical data about the harsh entry environment during Perseverance’s entry next Thursday.</div>,\n",
       "  <div class=\"article_teaser_body\">As dust collects on the solar panels and winter comes to Elysium Planitia, the team is following a plan to reduce science operations in order to keep the lander safe.</div>,\n",
       "  <div class=\"article_teaser_body\">Mark your calendars for live landing commentary, news briefings, livestreamed Q&amp;As, virtual watch parties, student activities, and more.</div>,\n",
       "  <div class=\"article_teaser_body\">How two new technologies will help Perseverance, NASA’s most sophisticated rover yet, touch down onto the surface of Mars this month.</div>,\n",
       "  <div class=\"article_teaser_body\">A new NASA paper provides the most detailed map to date of near-surface water ice on the Red Planet.</div>,\n",
       "  <div class=\"article_teaser_body\">Even as the Perseverance rover approaches Mars, technology on board is paying off on Earth.</div>,\n",
       "  <div class=\"article_teaser_body\">The Martian moon Phobos orbits through a stream of charged atoms and molecules that flow off the Red Planet’s atmosphere, new research shows.</div>,\n",
       "  <div class=\"article_teaser_body\">With a suite of new national and international spacecraft primed to explore the Red Planet after their arrival next month, NASA’s MAVEN mission is ready to provide support and continue its study of the Martian atmosphere.</div>,\n",
       "  <div class=\"article_teaser_body\">Seven minutes of harrowing descent to the Red Planet is in the not-so-distant future for the agency’s Mars 2020 mission.  </div>,\n",
       "  <div class=\"article_teaser_body\">Ingenuity, a technology experiment, is preparing to attempt the first powered, controlled flight on the Red Planet.</div>,\n",
       "  <div class=\"article_teaser_body\">NASA leadership and members of the mission will discuss the agency’s latest rover, which touches down on the Red Planet on Feb. 18.</div>,\n",
       "  <div class=\"article_teaser_body\">The heat probe hasn’t been able to gain the friction it needs to dig, but the mission has been granted an extension to carry on with its other science.</div>,\n",
       "  <div class=\"article_teaser_body\">Audio gathered by the mission may not sound quite the same on Mars as it would to our ears on Earth. A new interactive online experience lets you sample the difference.</div>,\n",
       "  <div class=\"article_teaser_body\">As the rover has continued to ascend Mount Sharp, it’s found distinctive benchlike rock formations.</div>,\n",
       "  <div class=\"article_teaser_body\">The rover touches down on the Red Planet next month, and students are invited to join the excitement by designing, building, and landing their own Mars mission. NASA can help.</div>,\n",
       "  <div class=\"article_teaser_body\">The missions – Juno and InSight – have each increased our understanding of our solar system, as well as spurred new sets of diverse questions.</div>,\n",
       "  <div class=\"article_teaser_body\">The Mars 2020 Perseverance rover, which has started its approach to the Red Planet, will help answer the next logical question in Mars exploration.</div>,\n",
       "  <div class=\"article_teaser_body\">Marvels of engineering, the rover's sample tubes must be tough enough to safely bring Red Planet samples on the long journey back to Earth in immaculate condition. </div>,\n",
       "  <div class=\"article_teaser_body\">During this next phase, the program will mature critical technologies and make critical design decisions as well as assess industry partnerships.</div>,\n",
       "  <div class=\"article_teaser_body\">Scientists are finding new mysteries since the geophysics mission landed two years ago.</div>,\n",
       "  <div class=\"article_teaser_body\">Bill Allen has thrived as the mechanical systems design lead for three Mars rover missions, but he got his start as a teenager sorting letters for the NASA center.</div>,\n",
       "  <div class=\"article_teaser_body\">The symbols, mottos, and small objects added to the agency's newest Mars rover serve a variety of purposes, from functional to decorative.</div>,\n",
       "  <div class=\"article_teaser_body\">NASA's Perseverance rover carries a device to convert Martian air into oxygen that, if produced on a larger scale, could be used not just for breathing, but also for fuel.</div>,\n",
       "  <div class=\"article_teaser_body\">The first to be rigged with microphones, the agency's latest Mars rover picked up the subtle sounds of its own inner workings during interplanetary flight.</div>,\n",
       "  <div class=\"article_teaser_body\">Sensors on NASA's Perseverance will help prepare for future human exploration by taking weather measurements and studying dust particles.</div>,\n",
       "  <div class=\"article_teaser_body\">Scientists using an instrument aboard NASA’s Mars Atmosphere and Volatile EvolutioN, or MAVEN, spacecraft have discovered that water vapor near the surface of the Red Planet is lofted higher into the atmosphere than anyone expected was possible. </div>,\n",
       "  <div class=\"article_teaser_body\">The Mars rover has drilled three samples of rock in this clay-enriched region since arriving in July.</div>,\n",
       "  <div class=\"article_teaser_body\">NASA released an independent review report Tuesday indicating the agency is well positioned for its Mars Sample Return campaign to bring pristine samples from Mars to Earth for scientific study.</div>,\n",
       "  <div class=\"article_teaser_body\">Mark your calendars: The agency's latest rover has only about 8,640,000 seconds to go before it touches down on the Red Planet, becoming history's next Mars car.</div>,\n",
       "  <div class=\"article_teaser_body\">Sometimes half measures can be a good thing – especially on a journey this long. The agency's latest rover only has about 146 million miles left to reach its destination.</div>,\n",
       "  <div class=\"article_teaser_body\">Instruments tailored to collect data during the descent of NASA's next rover through the Red Planet's atmosphere have been checked in flight.</div>,\n",
       "  <div class=\"article_teaser_body\">For hobbyists and makers, 3D printing expands creative possibilities; for specialized engineers, it's also key to next-generation spacecraft design.</div>],\n",
       " 'featured_image_url': 'https://mars.nasa.gov/system/news_items/list_view_images/8870_PIA24422-Navcam-08_N_LRGB_0002_RAS_0010052_CYL_S_UNCORCLJ01-stretched-v2.jpg',\n",
       " 'facts_table': [                      0                              1\n",
       "  0  Equatorial Diameter:                       6,792 km\n",
       "  1       Polar Diameter:                       6,752 km\n",
       "  2                 Mass:  6.39 × 10^23 kg (0.11 Earths)\n",
       "  3                Moons:            2 (Phobos & Deimos)\n",
       "  4       Orbit Distance:       227,943,824 km (1.38 AU)\n",
       "  5         Orbit Period:           687 days (1.9 years)\n",
       "  6  Surface Temperature:                   -87 to -5 °C\n",
       "  7         First Record:              2nd millennium BC\n",
       "  8          Recorded By:           Egyptian astronomers,\n",
       "    Mars - Earth Comparison             Mars            Earth\n",
       "  0               Diameter:         6,779 km        12,742 km\n",
       "  1                   Mass:  6.39 × 10^23 kg  5.97 × 10^24 kg\n",
       "  2                  Moons:                2                1\n",
       "  3      Distance from Sun:   227,943,824 km   149,598,262 km\n",
       "  4         Length of Year:   687 Earth days      365.24 days\n",
       "  5            Temperature:     -87 to -5 °C      -88 to 58°C,\n",
       "                        0                              1\n",
       "  0  Equatorial Diameter:                       6,792 km\n",
       "  1       Polar Diameter:                       6,752 km\n",
       "  2                 Mass:  6.39 × 10^23 kg (0.11 Earths)\n",
       "  3                Moons:            2 (Phobos & Deimos)\n",
       "  4       Orbit Distance:       227,943,824 km (1.38 AU)\n",
       "  5         Orbit Period:           687 days (1.9 years)\n",
       "  6  Surface Temperature:                   -87 to -5 °C\n",
       "  7         First Record:              2nd millennium BC\n",
       "  8          Recorded By:           Egyptian astronomers]}"
      ]
     },
     "metadata": {},
     "execution_count": 26
    }
   ],
   "source": [
    "mars_data"
   ]
  },
  {
   "cell_type": "code",
   "execution_count": 27,
   "metadata": {},
   "outputs": [],
   "source": []
  }
 ],
 "metadata": {
  "kernelspec": {
   "display_name": "Python 3",
   "language": "python",
   "name": "python3"
  },
  "language_info": {
   "codemirror_mode": {
    "name": "ipython",
    "version": 3
   },
   "file_extension": ".py",
   "mimetype": "text/x-python",
   "name": "python",
   "nbconvert_exporter": "python",
   "pygments_lexer": "ipython3",
   "version": "3.8.3-final"
  }
 },
 "nbformat": 4,
 "nbformat_minor": 2
}